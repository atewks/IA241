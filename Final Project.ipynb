{
 "cells": [
  {
   "cell_type": "markdown",
   "id": "ed3970ad",
   "metadata": {},
   "source": [
    "# An Analysis of COVID-19 Data in Ireland"
   ]
  },
  {
   "cell_type": "markdown",
   "id": "1a34ae8c",
   "metadata": {},
   "source": [
    "## Created by Autumn Tewksbury"
   ]
  },
  {
   "cell_type": "markdown",
   "id": "527d97f9",
   "metadata": {},
   "source": [
    "![Ireland](https://www.kilts-n-stuff.com/wp-content/uploads/ireland-flying.jpg)"
   ]
  },
  {
   "cell_type": "markdown",
   "id": "682599ab",
   "metadata": {},
   "source": [
    "## Data Source"
   ]
  },
  {
   "cell_type": "markdown",
   "id": "7064d712",
   "metadata": {},
   "source": [
    "The data used in this analysis is dowloaded from [European Centre for Disease Prevention and Control](https://www.ecdc.europa.eu/en/publications-data/download-todays-data-geographic-distribution-covid-19-cases-worldwide)."
   ]
  },
  {
   "cell_type": "code",
   "execution_count": 5,
   "id": "b6595207",
   "metadata": {},
   "outputs": [],
   "source": [
    "%matplotlib inline\n",
    "import pandas"
   ]
  },
  {
   "cell_type": "markdown",
   "id": "1696de57",
   "metadata": {},
   "source": [
    "## Background on COVID-19"
   ]
  },
  {
   "cell_type": "markdown",
   "id": "9214429b",
   "metadata": {},
   "source": [
    "COVID-19 is an infectious disease that is caused by the SARS-CoV-2 virus. Typically, those infected will experience mild to moderate respiratory illness and will be able to recover. However, some have become seriously ill and have died from the virus. While this typically happens to older people or those with compromised immune systems, anyone can die from COVID-19. Since it is relatively new, COVID-19 has continued to mutate. Scientists are conducting research in order to learn more about this virus and ensure that vaccines remain effective. [(World Health Organization)](https://www.who.int/health-topics/coronavirus#tab=tab_1)."
   ]
  },
  {
   "cell_type": "markdown",
   "id": "cb3c1d6f",
   "metadata": {},
   "source": [
    "## An Overview of Ireland's COVID-19 Data"
   ]
  },
  {
   "cell_type": "code",
   "execution_count": 39,
   "id": "84a39cb9",
   "metadata": {},
   "outputs": [
    {
     "data": {
      "text/html": [
       "<div>\n",
       "<style scoped>\n",
       "    .dataframe tbody tr th:only-of-type {\n",
       "        vertical-align: middle;\n",
       "    }\n",
       "\n",
       "    .dataframe tbody tr th {\n",
       "        vertical-align: top;\n",
       "    }\n",
       "\n",
       "    .dataframe thead th {\n",
       "        text-align: right;\n",
       "    }\n",
       "</style>\n",
       "<table border=\"1\" class=\"dataframe\">\n",
       "  <thead>\n",
       "    <tr style=\"text-align: right;\">\n",
       "      <th></th>\n",
       "      <th>dateRep</th>\n",
       "      <th>day</th>\n",
       "      <th>month</th>\n",
       "      <th>year</th>\n",
       "      <th>cases</th>\n",
       "      <th>deaths</th>\n",
       "      <th>countriesAndTerritories</th>\n",
       "      <th>geoId</th>\n",
       "      <th>countryterritoryCode</th>\n",
       "      <th>popData2019</th>\n",
       "      <th>continentExp</th>\n",
       "      <th>Cumulative_number_for_14_days_of_COVID-19_cases_per_100000</th>\n",
       "    </tr>\n",
       "  </thead>\n",
       "  <tbody>\n",
       "    <tr>\n",
       "      <th>28135</th>\n",
       "      <td>14/12/2020</td>\n",
       "      <td>14</td>\n",
       "      <td>12</td>\n",
       "      <td>2020</td>\n",
       "      <td>429</td>\n",
       "      <td>1</td>\n",
       "      <td>Ireland</td>\n",
       "      <td>IE</td>\n",
       "      <td>IRL</td>\n",
       "      <td>4904240.0</td>\n",
       "      <td>Europe</td>\n",
       "      <td>80.420208</td>\n",
       "    </tr>\n",
       "    <tr>\n",
       "      <th>28136</th>\n",
       "      <td>13/12/2020</td>\n",
       "      <td>13</td>\n",
       "      <td>12</td>\n",
       "      <td>2020</td>\n",
       "      <td>249</td>\n",
       "      <td>3</td>\n",
       "      <td>Ireland</td>\n",
       "      <td>IE</td>\n",
       "      <td>IRL</td>\n",
       "      <td>4904240.0</td>\n",
       "      <td>Europe</td>\n",
       "      <td>77.769440</td>\n",
       "    </tr>\n",
       "    <tr>\n",
       "      <th>28137</th>\n",
       "      <td>2020-12-12 00:00:00</td>\n",
       "      <td>12</td>\n",
       "      <td>12</td>\n",
       "      <td>2020</td>\n",
       "      <td>304</td>\n",
       "      <td>3</td>\n",
       "      <td>Ireland</td>\n",
       "      <td>IE</td>\n",
       "      <td>IRL</td>\n",
       "      <td>4904240.0</td>\n",
       "      <td>Europe</td>\n",
       "      <td>77.647097</td>\n",
       "    </tr>\n",
       "    <tr>\n",
       "      <th>28138</th>\n",
       "      <td>2020-11-12 00:00:00</td>\n",
       "      <td>11</td>\n",
       "      <td>12</td>\n",
       "      <td>2020</td>\n",
       "      <td>303</td>\n",
       "      <td>15</td>\n",
       "      <td>Ireland</td>\n",
       "      <td>IE</td>\n",
       "      <td>IRL</td>\n",
       "      <td>4904240.0</td>\n",
       "      <td>Europe</td>\n",
       "      <td>75.628436</td>\n",
       "    </tr>\n",
       "    <tr>\n",
       "      <th>28139</th>\n",
       "      <td>2020-10-12 00:00:00</td>\n",
       "      <td>10</td>\n",
       "      <td>12</td>\n",
       "      <td>2020</td>\n",
       "      <td>218</td>\n",
       "      <td>5</td>\n",
       "      <td>Ireland</td>\n",
       "      <td>IE</td>\n",
       "      <td>IRL</td>\n",
       "      <td>4904240.0</td>\n",
       "      <td>Europe</td>\n",
       "      <td>75.709998</td>\n",
       "    </tr>\n",
       "    <tr>\n",
       "      <th>...</th>\n",
       "      <td>...</td>\n",
       "      <td>...</td>\n",
       "      <td>...</td>\n",
       "      <td>...</td>\n",
       "      <td>...</td>\n",
       "      <td>...</td>\n",
       "      <td>...</td>\n",
       "      <td>...</td>\n",
       "      <td>...</td>\n",
       "      <td>...</td>\n",
       "      <td>...</td>\n",
       "      <td>...</td>\n",
       "    </tr>\n",
       "    <tr>\n",
       "      <th>28478</th>\n",
       "      <td>2020-04-01 00:00:00</td>\n",
       "      <td>4</td>\n",
       "      <td>1</td>\n",
       "      <td>2020</td>\n",
       "      <td>0</td>\n",
       "      <td>0</td>\n",
       "      <td>Ireland</td>\n",
       "      <td>IE</td>\n",
       "      <td>IRL</td>\n",
       "      <td>4904240.0</td>\n",
       "      <td>Europe</td>\n",
       "      <td>NaN</td>\n",
       "    </tr>\n",
       "    <tr>\n",
       "      <th>28479</th>\n",
       "      <td>2020-03-01 00:00:00</td>\n",
       "      <td>3</td>\n",
       "      <td>1</td>\n",
       "      <td>2020</td>\n",
       "      <td>0</td>\n",
       "      <td>0</td>\n",
       "      <td>Ireland</td>\n",
       "      <td>IE</td>\n",
       "      <td>IRL</td>\n",
       "      <td>4904240.0</td>\n",
       "      <td>Europe</td>\n",
       "      <td>NaN</td>\n",
       "    </tr>\n",
       "    <tr>\n",
       "      <th>28480</th>\n",
       "      <td>2020-02-01 00:00:00</td>\n",
       "      <td>2</td>\n",
       "      <td>1</td>\n",
       "      <td>2020</td>\n",
       "      <td>0</td>\n",
       "      <td>0</td>\n",
       "      <td>Ireland</td>\n",
       "      <td>IE</td>\n",
       "      <td>IRL</td>\n",
       "      <td>4904240.0</td>\n",
       "      <td>Europe</td>\n",
       "      <td>NaN</td>\n",
       "    </tr>\n",
       "    <tr>\n",
       "      <th>28481</th>\n",
       "      <td>2020-01-01 00:00:00</td>\n",
       "      <td>1</td>\n",
       "      <td>1</td>\n",
       "      <td>2020</td>\n",
       "      <td>0</td>\n",
       "      <td>0</td>\n",
       "      <td>Ireland</td>\n",
       "      <td>IE</td>\n",
       "      <td>IRL</td>\n",
       "      <td>4904240.0</td>\n",
       "      <td>Europe</td>\n",
       "      <td>NaN</td>\n",
       "    </tr>\n",
       "    <tr>\n",
       "      <th>28482</th>\n",
       "      <td>31/12/2019</td>\n",
       "      <td>31</td>\n",
       "      <td>12</td>\n",
       "      <td>2019</td>\n",
       "      <td>0</td>\n",
       "      <td>0</td>\n",
       "      <td>Ireland</td>\n",
       "      <td>IE</td>\n",
       "      <td>IRL</td>\n",
       "      <td>4904240.0</td>\n",
       "      <td>Europe</td>\n",
       "      <td>NaN</td>\n",
       "    </tr>\n",
       "  </tbody>\n",
       "</table>\n",
       "<p>348 rows × 12 columns</p>\n",
       "</div>"
      ],
      "text/plain": [
       "                   dateRep  day  month  year  cases  deaths  \\\n",
       "28135           14/12/2020   14     12  2020    429       1   \n",
       "28136           13/12/2020   13     12  2020    249       3   \n",
       "28137  2020-12-12 00:00:00   12     12  2020    304       3   \n",
       "28138  2020-11-12 00:00:00   11     12  2020    303      15   \n",
       "28139  2020-10-12 00:00:00   10     12  2020    218       5   \n",
       "...                    ...  ...    ...   ...    ...     ...   \n",
       "28478  2020-04-01 00:00:00    4      1  2020      0       0   \n",
       "28479  2020-03-01 00:00:00    3      1  2020      0       0   \n",
       "28480  2020-02-01 00:00:00    2      1  2020      0       0   \n",
       "28481  2020-01-01 00:00:00    1      1  2020      0       0   \n",
       "28482           31/12/2019   31     12  2019      0       0   \n",
       "\n",
       "      countriesAndTerritories geoId countryterritoryCode  popData2019  \\\n",
       "28135                 Ireland    IE                  IRL    4904240.0   \n",
       "28136                 Ireland    IE                  IRL    4904240.0   \n",
       "28137                 Ireland    IE                  IRL    4904240.0   \n",
       "28138                 Ireland    IE                  IRL    4904240.0   \n",
       "28139                 Ireland    IE                  IRL    4904240.0   \n",
       "...                       ...   ...                  ...          ...   \n",
       "28478                 Ireland    IE                  IRL    4904240.0   \n",
       "28479                 Ireland    IE                  IRL    4904240.0   \n",
       "28480                 Ireland    IE                  IRL    4904240.0   \n",
       "28481                 Ireland    IE                  IRL    4904240.0   \n",
       "28482                 Ireland    IE                  IRL    4904240.0   \n",
       "\n",
       "      continentExp  Cumulative_number_for_14_days_of_COVID-19_cases_per_100000  \n",
       "28135       Europe                                          80.420208           \n",
       "28136       Europe                                          77.769440           \n",
       "28137       Europe                                          77.647097           \n",
       "28138       Europe                                          75.628436           \n",
       "28139       Europe                                          75.709998           \n",
       "...            ...                                                ...           \n",
       "28478       Europe                                                NaN           \n",
       "28479       Europe                                                NaN           \n",
       "28480       Europe                                                NaN           \n",
       "28481       Europe                                                NaN           \n",
       "28482       Europe                                                NaN           \n",
       "\n",
       "[348 rows x 12 columns]"
      ]
     },
     "execution_count": 39,
     "metadata": {},
     "output_type": "execute_result"
    }
   ],
   "source": [
    "df = pandas.read_excel('s3://ia241-2-spring2022-tewksbury/covid_data.xls')\n",
    "ireland_data=df.loc[df['countriesAndTerritories']=='Ireland']\n",
    "ireland_data[:]"
   ]
  },
  {
   "cell_type": "markdown",
   "id": "c36d96c2",
   "metadata": {},
   "source": [
    "## Question 1: What is the trend of confirmed COVID-19 cases in Ireland from January 2020 to December 2020?"
   ]
  },
  {
   "cell_type": "code",
   "execution_count": 22,
   "id": "5a597935",
   "metadata": {},
   "outputs": [
    {
     "data": {
      "text/plain": [
       "<AxesSubplot:xlabel='month'>"
      ]
     },
     "execution_count": 22,
     "metadata": {},
     "output_type": "execute_result"
    },
    {
     "data": {
      "image/png": "[encoded data removed]",
      "text/plain": [
       "<Figure size 432x288 with 1 Axes>"
      ]
     },
     "metadata": {
      "needs_background": "light"
     },
     "output_type": "display_data"
    }
   ],
   "source": [
    "ireland_cases=ireland_data.groupby('month').sum()['cases']\n",
    "ireland_cases.plot()"
   ]
  },
  {
   "cell_type": "markdown",
   "id": "6411573a",
   "metadata": {},
   "source": [
    "### Explanation of Calculations"
   ]
  },
  {
   "cell_type": "markdown",
   "id": "84fd3781",
   "metadata": {},
   "source": [
    "I used a line graph in order to convey the trend of COVID-19 cases in 2020. I found it easiest to to this by each month, so the x-axis has January to December (1 to 12). The y-axis has the total number of cases, and the line represents the total number of cases per month. The cases range from 0 to 25,000."
   ]
  },
  {
   "cell_type": "markdown",
   "id": "e0d391d0",
   "metadata": {},
   "source": [
    "### Interpretation of Visualizations"
   ]
  },
  {
   "cell_type": "markdown",
   "id": "f63fe6c4",
   "metadata": {},
   "source": [
    "In this line graph, April and October were the months with the highest COVID-19 cases in Ireland because the line peaks at both of these points. January, February, July, June, and December all had a low number of cases. October had around 25,000 cases, and April had almost 20,000. January and Feburary both had zero reported cases of COVID-19. COVID-19 cases appear to have peaked twice in 2020, and these peaks were 6 months apart."
   ]
  },
  {
   "cell_type": "markdown",
   "id": "6a99b33f",
   "metadata": {},
   "source": [
    "## Question 2: Which month in 2020 had the highest number of COVID-19 deaths in Ireland?"
   ]
  },
  {
   "cell_type": "code",
   "execution_count": 33,
   "id": "40f7ca1e",
   "metadata": {},
   "outputs": [
    {
     "data": {
      "text/plain": [
       "<AxesSubplot:xlabel='month'>"
      ]
     },
     "execution_count": 33,
     "metadata": {},
     "output_type": "execute_result"
    },
    {
     "data": {
      "image/png": "[encoded data removed]",
      "text/plain": [
       "<Figure size 432x288 with 1 Axes>"
      ]
     },
     "metadata": {
      "needs_background": "light"
     },
     "output_type": "display_data"
    }
   ],
   "source": [
    "ireland_cases=ireland_data.groupby('month').sum()['deaths']\n",
    "ireland_cases.nlargest(12).plot.bar()"
   ]
  },
  {
   "cell_type": "markdown",
   "id": "b915143b",
   "metadata": {},
   "source": [
    "### Explanation of Calculations"
   ]
  },
  {
   "cell_type": "markdown",
   "id": "dedccb5a",
   "metadata": {},
   "source": [
    "I used a bar chart in order to clearly indicate which month had the highest COVID-19 deaths. I also ordered them from largest to smallest starting from left to right. This helps readers to clearly see the ranking of each month according to the number of COVID-19 deaths. The y-axis represents the number of deaths, which range from zero to almost 1,200."
   ]
  },
  {
   "cell_type": "markdown",
   "id": "61801005",
   "metadata": {},
   "source": [
    "### Interpretation of Visualizations"
   ]
  },
  {
   "cell_type": "markdown",
   "id": "ea6b1244",
   "metadata": {},
   "source": [
    "The month of April in 2020 had over 1,000 COVID-19 deaths, while all of the others had 500 or less. January and February had no recorded COVID-19 deaths, which makes sense because the pandemic began in March. Many of the months had 200 deaths or less. April and May had the most deaths. It is interesting that October had the most COVID-19 cases but did not have nearly as many deaths as April."
   ]
  },
  {
   "cell_type": "markdown",
   "id": "20439162",
   "metadata": {},
   "source": [
    "## Question 3: How are the number of deaths related to the number of cases in Ireland?"
   ]
  },
  {
   "cell_type": "code",
   "execution_count": 38,
   "id": "dba55eb7",
   "metadata": {
    "scrolled": true
   },
   "outputs": [
    {
     "data": {
      "text/plain": [
       "<AxesSubplot:xlabel='cases', ylabel='deaths'>"
      ]
     },
     "execution_count": 38,
     "metadata": {},
     "output_type": "execute_result"
    },
    {
     "data": {
      "image/png": "[encoded data removed]",
      "text/plain": [
       "<Figure size 432x288 with 2 Axes>"
      ]
     },
     "metadata": {
      "needs_background": "light"
     },
     "output_type": "display_data"
    }
   ],
   "source": [
    "ireland_data.plot.scatter(x='cases',y='deaths', c='month')"
   ]
  },
  {
   "cell_type": "markdown",
   "id": "101e64e3",
   "metadata": {},
   "source": [
    "### Explanation of Calculations"
   ]
  },
  {
   "cell_type": "markdown",
   "id": "08a51381",
   "metadata": {},
   "source": [
    "I used a scatterplot in order to show the relationship between COVID-19 deaths and cases in Ireland. The darker dots represent later months, and the lighter dots are earlier months. The x-axis represents the number of COVID-19 cases, and the y-axis represents the deaths. I included the months because there was an outlier, and I wanted to note that it took place during the month of April."
   ]
  },
  {
   "cell_type": "markdown",
   "id": "03e31e51",
   "metadata": {},
   "source": [
    "### Interpretation of Visualizations"
   ]
  },
  {
   "cell_type": "markdown",
   "id": "455f6ae2",
   "metadata": {},
   "source": [
    "The scatterplot appears very flat due to an outlier. On April 26, 2020, there were 234 recorded deaths from COVID-19. Every other day had less than 100 deaths. Without this outlier, the scatterplot would be more evenly distributed. It also appears that the earlier months had more deaths in comparison with the later months, although the later months still had a high number of COVID-19 cases. Overall, there does not appear to be a very strong correlation between the number of COVID-19 cases and the number of deaths in Ireland during 2020."
   ]
  },
  {
   "cell_type": "markdown",
   "id": "87c7a183",
   "metadata": {},
   "source": [
    "## Conclusion, Limitations, & Improvements"
   ]
  },
  {
   "cell_type": "markdown",
   "id": "aa3d077e",
   "metadata": {},
   "source": [
    "The goal of this project was to use the COVID-19 data from the European Centre for Disease Prevention and Control in order to understand how COVID-19 affected Ireland. I was able to portray the trend in cases, the months with the most deaths, and the relationship between COVID-19 cases and deaths for the year of 2020.\n",
    "\n",
    "One limitation present within this assessment was that the data only covered half of December. After December 14, there is no more data; therefore, the December COVID-19 cases and deaths are likely understated. Another limitation was that I did not have a lot of experience in Python. If I had more, I could have done more with the data and made the scatterplot easier to read.\n",
    "\n",
    "An improvement that could have been made to this project would have been to analyze COVID-19 data from both 2020 and 2021 and to compare the two years in terms of cases and deaths for Ireland. Since the vaccine was distributed in 2021, it would have been interesting to see how the two years differed. One other improvement would be to compare Ireland to another country, such as Norway. The two countries have similar population sizes and are both in Europe, so it would have been interesting to see how their COVID-19 cases and deaths compared."
   ]
  },
  {
   "cell_type": "code",
   "execution_count": null,
   "id": "8b66a28a",
   "metadata": {},
   "outputs": [],
   "source": []
  }
 ],
 "metadata": {
  "kernelspec": {
   "display_name": "conda_python3",
   "language": "python",
   "name": "conda_python3"
  },
  "language_info": {
   "codemirror_mode": {
    "name": "ipython",
    "version": 3
   },
   "file_extension": ".py",
   "mimetype": "text/x-python",
   "name": "python",
   "nbconvert_exporter": "python",
   "pygments_lexer": "ipython3",
   "version": "3.6.13"
  }
 },
 "nbformat": 4,
 "nbformat_minor": 5
}
